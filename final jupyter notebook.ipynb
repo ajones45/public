{
 "cells": [
  {
   "cell_type": "markdown",
   "id": "e46e503d",
   "metadata": {},
   "source": [
    "# Data Science Tools and Ecosystem"
   ]
  },
  {
   "cell_type": "markdown",
   "id": "c798247f",
   "metadata": {},
   "source": [
    "## Introduction\n",
    "\n",
    "In this notebook, data science tools and ecosystems are summarized "
   ]
  },
  {
   "cell_type": "markdown",
   "id": "7eb9c5db",
   "metadata": {},
   "source": [
    "Some of the popular languages in data science that data scientists use are \n",
    "\n",
    "1) R/Rstudio\n",
    "2) Python\n",
    "3) Java "
   ]
  },
  {
   "cell_type": "markdown",
   "id": "4773c808",
   "metadata": {},
   "source": [
    "Some of the data science libraries that are commonly used are \n",
    "\n",
    "1) pandas\n",
    "2) ggplot\n",
    "3) caret\n",
    "4) "
   ]
  },
  {
   "cell_type": "markdown",
   "id": "e9b72b6a",
   "metadata": {},
   "source": [
    "Some of the data science tools are \n",
    "\n",
    "* jupyter notebook\n",
    "* VS Code\n",
    "* and google cloud based development environment "
   ]
  },
  {
   "cell_type": "markdown",
   "id": "0ab29f2b",
   "metadata": {},
   "source": [
    "### Below are a few examples of evaluating arithmetic expresssions in python \n",
    "\n",
    "7+8="
   ]
  },
  {
   "cell_type": "code",
   "execution_count": 1,
   "id": "ff13fc66",
   "metadata": {},
   "outputs": [
    {
     "data": {
      "text/plain": [
       "15"
      ]
     },
     "execution_count": 1,
     "metadata": {},
     "output_type": "execute_result"
    }
   ],
   "source": [
    "7+8"
   ]
  },
  {
   "cell_type": "code",
   "execution_count": 2,
   "id": "802c5952",
   "metadata": {},
   "outputs": [
    {
     "data": {
      "text/plain": [
       "4"
      ]
     },
     "execution_count": 2,
     "metadata": {},
     "output_type": "execute_result"
    }
   ],
   "source": [
    "#test code \n",
    "\n",
    "2+2"
   ]
  },
  {
   "cell_type": "code",
   "execution_count": 3,
   "id": "aea0495d",
   "metadata": {},
   "outputs": [
    {
     "data": {
      "text/plain": [
       "12"
      ]
     },
     "execution_count": 3,
     "metadata": {},
     "output_type": "execute_result"
    }
   ],
   "source": [
    "#simple arithmetic\n",
    "\n",
    "4+8"
   ]
  },
  {
   "cell_type": "code",
   "execution_count": 4,
   "id": "c4004488",
   "metadata": {},
   "outputs": [
    {
     "data": {
      "text/plain": [
       "20"
      ]
     },
     "execution_count": 4,
     "metadata": {},
     "output_type": "execute_result"
    }
   ],
   "source": [
    "#multiplcation \n",
    "\n",
    "4*(2+3)\n"
   ]
  },
  {
   "cell_type": "code",
   "execution_count": 5,
   "id": "e4eb0079",
   "metadata": {},
   "outputs": [
    {
     "data": {
      "text/plain": [
       "17"
      ]
     },
     "execution_count": 5,
     "metadata": {},
     "output_type": "execute_result"
    }
   ],
   "source": [
    "#more \n",
    "\n",
    "#This a simple arithmetic expression to mutiply then add integers.\n",
    "\n",
    "(3*4)+5"
   ]
  },
  {
   "cell_type": "code",
   "execution_count": 6,
   "id": "3cad3f2c",
   "metadata": {},
   "outputs": [
    {
     "data": {
      "text/plain": [
       "3.3333333333333335"
      ]
     },
     "execution_count": 6,
     "metadata": {},
     "output_type": "execute_result"
    }
   ],
   "source": [
    "#This will convert 200 minutes to hours by diving by 60.\n",
    "\n",
    "200/60"
   ]
  },
  {
   "cell_type": "markdown",
   "id": "8c67b59d",
   "metadata": {},
   "source": [
    "\n",
    "# **Objectives**\n",
    "\n",
    "* List popular languages for data science \n",
    "* list popular languages \n",
    "* test basic arrithmatic in python \n",
    "* take screenshots of both markdown and python code."
   ]
  },
  {
   "cell_type": "markdown",
   "id": "36071295",
   "metadata": {},
   "source": [
    "## Author\n",
    "Andrew Jones "
   ]
  }
 ],
 "metadata": {
  "kernelspec": {
   "display_name": "base",
   "language": "python",
   "name": "python3"
  },
  "language_info": {
   "codemirror_mode": {
    "name": "ipython",
    "version": 3
   },
   "file_extension": ".py",
   "mimetype": "text/x-python",
   "name": "python",
   "nbconvert_exporter": "python",
   "pygments_lexer": "ipython3",
   "version": "3.12.7"
  }
 },
 "nbformat": 4,
 "nbformat_minor": 5
}
